{
  "nbformat": 4,
  "nbformat_minor": 0,
  "metadata": {
    "colab": {
      "name": "Nearest Neighbor",
      "provenance": [],
      "authorship_tag": "ABX9TyPSHFdpkSI03uzNIZnDkDs4",
      "include_colab_link": true
    },
    "kernelspec": {
      "name": "python3",
      "display_name": "Python 3"
    }
  },
  "cells": [
    {
      "cell_type": "markdown",
      "metadata": {
        "id": "view-in-github",
        "colab_type": "text"
      },
      "source": [
        "<a href=\"https://colab.research.google.com/github/ZachPetroff/DataM-A_Project/blob/main/Nearest_Neighbor.ipynb\" target=\"_parent\"><img src=\"https://colab.research.google.com/assets/colab-badge.svg\" alt=\"Open In Colab\"/></a>"
      ]
    },
    {
      "cell_type": "code",
      "metadata": {
        "id": "kU1Ji9Lp0lwS",
        "colab": {
          "base_uri": "https://localhost:8080/"
        },
        "outputId": "278392fc-3a35-44c5-cfdd-4e5d40574eb9"
      },
      "source": [
        "# This code can be used to add a folder in the repository to the Python import\n",
        "# path, irrespective of whether the notebook is being run in colab or Jupyter.\n",
        "# (C) 2020 Abe Leite, Indiana University Bloomington\n",
        "# This code block is released under MIT license. Feel free to make use of\n",
        "# this code in any projects so long as you reproduce this text.\n",
        "\n",
        "import os\n",
        "import sys\n",
        "import subprocess\n",
        "\n",
        "repo_URL = 'https://github.com/ZachPetroff/DataM-A_Project'\n",
        "repo_name = repo_URL.split('/')[-1]\n",
        "code_folder = ''\n",
        "\n",
        "try:\n",
        "  repo_path = subprocess.check_output('git rev-parse --show-toplevel', shell=True).decode().strip()\n",
        "except subprocess.CalledProcessError:\n",
        "  os.system(f'git clone {repo_URL} --depth 1')\n",
        "  repo_path = os.path.abspath(repo_name)\n",
        "\n",
        "code_path = os.path.join(repo_path, code_folder)\n",
        "sys.path.append(code_path)\n",
        "print(f'Loading code from {code_path}')"
      ],
      "execution_count": 1,
      "outputs": [
        {
          "output_type": "stream",
          "text": [
            "Loading code from /content/DataM-A_Project/\n"
          ],
          "name": "stdout"
        }
      ]
    },
    {
      "cell_type": "code",
      "metadata": {
        "id": "5UMTKuDWg6tr"
      },
      "source": [
        "import pandas as pd\n",
        "import matplotlib.pyplot as plt\n",
        "import numpy as np\n",
        "import random\n",
        "import math\n",
        "from Model_Evaluation import *"
      ],
      "execution_count": 24,
      "outputs": []
    },
    {
      "cell_type": "code",
      "metadata": {
        "id": "ml8jnz-vkJwV",
        "colab": {
          "base_uri": "https://localhost:8080/"
        },
        "outputId": "0d94d523-7b00-408e-a1da-f22f54dbf5ed"
      },
      "source": [
        "# mount drive\n",
        "\n",
        "from google.colab import drive\n",
        "drive.mount('/content/drive')"
      ],
      "execution_count": 3,
      "outputs": [
        {
          "output_type": "stream",
          "text": [
            "Mounted at /content/drive\n"
          ],
          "name": "stdout"
        }
      ]
    },
    {
      "cell_type": "code",
      "metadata": {
        "id": "coYm4v9IlT9S"
      },
      "source": [
        "# Download both training and validation data into your google drive\n",
        "\n",
        "training_data = pd.read_csv('/content/drive/My Drive/training_diabetes_data.csv')\n",
        "validation_data = pd.read_csv('/content/drive/My Drive/validation_diabetes_data.csv')"
      ],
      "execution_count": 4,
      "outputs": []
    },
    {
      "cell_type": "code",
      "metadata": {
        "id": "ydfZvdrXA8k6",
        "colab": {
          "base_uri": "https://localhost:8080/",
          "height": 195
        },
        "outputId": "dc6756d2-4541-4e12-b839-1e65713ebaac"
      },
      "source": [
        "training_data.head()"
      ],
      "execution_count": 5,
      "outputs": [
        {
          "output_type": "execute_result",
          "data": {
            "text/html": [
              "<div>\n",
              "<style scoped>\n",
              "    .dataframe tbody tr th:only-of-type {\n",
              "        vertical-align: middle;\n",
              "    }\n",
              "\n",
              "    .dataframe tbody tr th {\n",
              "        vertical-align: top;\n",
              "    }\n",
              "\n",
              "    .dataframe thead th {\n",
              "        text-align: right;\n",
              "    }\n",
              "</style>\n",
              "<table border=\"1\" class=\"dataframe\">\n",
              "  <thead>\n",
              "    <tr style=\"text-align: right;\">\n",
              "      <th></th>\n",
              "      <th>Gender</th>\n",
              "      <th>Polyuria</th>\n",
              "      <th>Polydipsia</th>\n",
              "      <th>sudden.weight.loss</th>\n",
              "      <th>partial.paresis</th>\n",
              "      <th>class</th>\n",
              "    </tr>\n",
              "  </thead>\n",
              "  <tbody>\n",
              "    <tr>\n",
              "      <th>0</th>\n",
              "      <td>1</td>\n",
              "      <td>0</td>\n",
              "      <td>1</td>\n",
              "      <td>0</td>\n",
              "      <td>0</td>\n",
              "      <td>1</td>\n",
              "    </tr>\n",
              "    <tr>\n",
              "      <th>1</th>\n",
              "      <td>1</td>\n",
              "      <td>0</td>\n",
              "      <td>0</td>\n",
              "      <td>0</td>\n",
              "      <td>1</td>\n",
              "      <td>1</td>\n",
              "    </tr>\n",
              "    <tr>\n",
              "      <th>2</th>\n",
              "      <td>1</td>\n",
              "      <td>1</td>\n",
              "      <td>0</td>\n",
              "      <td>0</td>\n",
              "      <td>0</td>\n",
              "      <td>1</td>\n",
              "    </tr>\n",
              "    <tr>\n",
              "      <th>3</th>\n",
              "      <td>1</td>\n",
              "      <td>0</td>\n",
              "      <td>0</td>\n",
              "      <td>1</td>\n",
              "      <td>0</td>\n",
              "      <td>1</td>\n",
              "    </tr>\n",
              "    <tr>\n",
              "      <th>4</th>\n",
              "      <td>1</td>\n",
              "      <td>1</td>\n",
              "      <td>1</td>\n",
              "      <td>0</td>\n",
              "      <td>0</td>\n",
              "      <td>1</td>\n",
              "    </tr>\n",
              "  </tbody>\n",
              "</table>\n",
              "</div>"
            ],
            "text/plain": [
              "   Gender  Polyuria  Polydipsia  sudden.weight.loss  partial.paresis  class\n",
              "0       1         0           1                   0                0      1\n",
              "1       1         0           0                   0                1      1\n",
              "2       1         1           0                   0                0      1\n",
              "3       1         0           0                   1                0      1\n",
              "4       1         1           1                   0                0      1"
            ]
          },
          "metadata": {
            "tags": []
          },
          "execution_count": 5
        }
      ]
    },
    {
      "cell_type": "code",
      "metadata": {
        "id": "c--Gk2L7huZO"
      },
      "source": [
        "class Nearest_Neighbor:\n",
        "  def __init__(self, n, training_data, dist_method=\"euclid\", weights=np.array([1,1,1,1,1])):\n",
        "    self.n = n\n",
        "    self.training_data = training_data\n",
        "    self.dist_method = dist_method\n",
        "    self.weights = weights\n",
        "    self.saved_classifications = []\n",
        "    self.saved_points = []\n",
        "\n",
        "  def manhattan_dist(self, x, y):\n",
        "    dist = 0\n",
        "    for i in range(len(x)):\n",
        "      dist += abs(x[i] - y[i])\n",
        "    return dist\n",
        "\n",
        "  def euclid_dist(self, x, y):\n",
        "    x = np.array(x)\n",
        "    y = np.array(y)\n",
        "    for i in range(len(x)):\n",
        "      x[i] = x[i] * self.weights[i]\n",
        "      y[i] = y[i] * self.weights[i]\n",
        "    return np.linalg.norm(x-y)\n",
        "\n",
        "  def cosine_similarity(self, x, y):\n",
        "    x = np.array(x)\n",
        "    y = np.array(y)\n",
        "    return 1 - np.dot(x, y)/(np.linalg.norm(x)*np.linalg.norm(y))\n",
        "\n",
        "  def pearson(self, x, y):\n",
        "    x = np.array(x)\n",
        "    y = np.array(y)\n",
        "    mean_x = 0\n",
        "    mean_y = 0\n",
        "    for entry in range(len(x)):\n",
        "      mean_x += x[entry]\n",
        "      mean_y += y[entry]\n",
        "    mean_x = mean_x / len(x)\n",
        "    mean_y = mean_y / len(y)\n",
        "\n",
        "    numerator = 0\n",
        "    x_sq = 0\n",
        "    y_sq = 0\n",
        "    for entry in range(len(x)):\n",
        "      numerator += (x[entry] - mean_x) * (y[entry] * mean_y)\n",
        "      x_sq += (x[entry] - mean_x) ** 2\n",
        "      y_sq += (y[entry] - mean_y) ** 2\n",
        "\n",
        "    return 1 - (numerator / ((x_sq * y_sq) ** .5))\n",
        "\n",
        "  def classify(self, point, class_column):\n",
        "    point = point.tolist()\n",
        "    if point in self.saved_points:\n",
        "      indx = self.saved_points.index(point)\n",
        "      return self.saved_classifications[indx]\n",
        "    neighbors_dist = []\n",
        "    neighbors_class = []\n",
        "    for data in range(len(training_data)):\n",
        "      training_point = self.training_data.iloc[data, 0:class_column-1]\n",
        "      \n",
        "      if self.dist_method == \"euclid\":\n",
        "        dist = self.euclid_dist(training_point, point)\n",
        "      \n",
        "      if self.dist_method == \"manhattan\":\n",
        "        dist = self.manhattan_dist(training_point, point)\n",
        "\n",
        "      if self.dist_method == \"cosine\":\n",
        "        dist = self.cosine_similarity(training_point, point)\n",
        "\n",
        "      if self.dist_method == \"pearson\":\n",
        "        dist = self.pearson(training_point, point)\n",
        "      \n",
        "      if len(neighbors_dist) < self.n:\n",
        "        neighbors_dist.append(dist)\n",
        "        neighbors_class.append(training_data.iloc[data, class_column-1])\n",
        "      \n",
        "      if len(neighbors_dist) >= self.n:\n",
        "        largest_dist = max(neighbors_dist)\n",
        "        if largest_dist > dist:\n",
        "          largest_indx = neighbors_dist.index(largest_dist)\n",
        "          neighbors_dist[largest_indx] = dist\n",
        "          neighbors_class[largest_indx] = training_data.iloc[data, class_column-1]\n",
        "\n",
        "    \n",
        "    classification = round(sum(neighbors_class)/self.n)\n",
        "    self.saved_classifications.append(classification)\n",
        "    self.saved_points.append(point)\n",
        "    return classification"
      ],
      "execution_count": 59,
      "outputs": []
    },
    {
      "cell_type": "code",
      "metadata": {
        "id": "elYIIEgwsFp_"
      },
      "source": [
        "# get true classes\n",
        "true_classes = validation_data.iloc[0:len(validation_data), 5].tolist()"
      ],
      "execution_count": 7,
      "outputs": []
    },
    {
      "cell_type": "code",
      "metadata": {
        "id": "tdsfXkNp1CTT",
        "colab": {
          "base_uri": "https://localhost:8080/",
          "height": 295
        },
        "outputId": "c30cdb48-2cce-42e6-ec7b-68aa33b5d0f2"
      },
      "source": [
        "# Finding the best value of n\n",
        "\n",
        "for n in range(20):\n",
        "  nn = Nearest_Neighbor(n+1, training_data, weights=[1, 1, 1, 1, 1])\n",
        "  predictions = []\n",
        "  for i in range(len(validation_data)):\n",
        "    classification = nn.classify(validation_data.iloc[i, 0:5], 6)\n",
        "    predictions.append(classification)\n",
        "  eval = Evaluation(true_classes, predictions)\n",
        "  plt.plot(n+1, eval.accuracy(), \"ro\")\n",
        "\n",
        "plt.title(\"Euclidean Distance Accuracies\")\n",
        "plt.xlabel(\"Number of Neighbors\")\n",
        "plt.ylabel(\"Accuracy\")\n",
        "plt.show()\n",
        "\n",
        "# optimal n = 12 / accuracy = 90%"
      ],
      "execution_count": 54,
      "outputs": [
        {
          "output_type": "display_data",
          "data": {
            "image/png": "[encoded data removed]",
            "text/plain": [
              "<Figure size 432x288 with 1 Axes>"
            ]
          },
          "metadata": {
            "tags": [],
            "needs_background": "light"
          }
        }
      ]
    },
    {
      "cell_type": "code",
      "metadata": {
        "id": "KONODk01vhEp",
        "colab": {
          "base_uri": "https://localhost:8080/",
          "height": 295
        },
        "outputId": "d4001be8-19db-4c7c-89f7-21959b79c23a"
      },
      "source": [
        "# Finding the best value of n\n",
        "for n in range(20):\n",
        "  nn = Nearest_Neighbor(n+1, training_data, dist_method=\"manhattan\", weights=[1,1,1,1,1])\n",
        "  predictions = []\n",
        "  for i in range(len(validation_data)):\n",
        "    classification = nn.classify(validation_data.iloc[i, 0:5], 6)\n",
        "    predictions.append(classification)\n",
        "  eval = Evaluation(true_classes, predictions)\n",
        "  plt.plot(n+1, eval.accuracy(), \"ro\")\n",
        "\n",
        "plt.title(\"Manhattan Distance Accuracies\")\n",
        "plt.xlabel(\"Number of Neighbors\")\n",
        "plt.ylabel(\"Accuracy\")\n",
        "plt.show()\n",
        "\n",
        "# optimal n = 12 / accuracy = 63%"
      ],
      "execution_count": 8,
      "outputs": [
        {
          "output_type": "display_data",
          "data": {
            "image/png": "[encoded data removed]",
            "text/plain": [
              "<Figure size 432x288 with 1 Axes>"
            ]
          },
          "metadata": {
            "tags": [],
            "needs_background": "light"
          }
        }
      ]
    },
    {
      "cell_type": "code",
      "metadata": {
        "colab": {
          "base_uri": "https://localhost:8080/",
          "height": 312
        },
        "id": "Vy3zy9kM0hrI",
        "outputId": "aa69fce4-d7b2-41b6-cdc7-9e63ba811345"
      },
      "source": [
        "# Finding the best value of n\n",
        "\n",
        "for n in range(20):\n",
        "  nn = Nearest_Neighbor(n+1, training_data, dist_method=\"cosine\")\n",
        "  predictions = []\n",
        "  for i in range(len(validation_data)):\n",
        "    classification = nn.classify(validation_data.iloc[i, 0:5], 6)\n",
        "    predictions.append(classification)\n",
        "  eval = Evaluation(true_classes, predictions)\n",
        "  plt.plot(n+1, eval.accuracy(), \"ro\")\n",
        "\n",
        "plt.title(\"Cosine-Similarity Accuracies\")\n",
        "plt.xlabel(\"Number of Neighbors\")\n",
        "plt.ylabel(\"Accuracy\")\n",
        "plt.show()\n",
        "\n",
        "# optimal n = 12 / accuracy = 90%"
      ],
      "execution_count": 51,
      "outputs": [
        {
          "output_type": "stream",
          "text": [
            "/usr/local/lib/python3.6/dist-packages/ipykernel_launcher.py:27: RuntimeWarning: invalid value encountered in true_divide\n"
          ],
          "name": "stderr"
        },
        {
          "output_type": "display_data",
          "data": {
            "image/png": "[encoded data removed]",
            "text/plain": [
              "<Figure size 432x288 with 1 Axes>"
            ]
          },
          "metadata": {
            "tags": [],
            "needs_background": "light"
          }
        }
      ]
    },
    {
      "cell_type": "code",
      "metadata": {
        "colab": {
          "base_uri": "https://localhost:8080/",
          "height": 329
        },
        "id": "mujJrBKp2wh0",
        "outputId": "e74ff813-2ffd-4312-d697-c24f29f66627"
      },
      "source": [
        "# Finding the best value of n\n",
        "\n",
        "for n in range(20):\n",
        "  nn = Nearest_Neighbor(n+1, training_data, dist_method=\"pearson\")\n",
        "  predictions = []\n",
        "  for i in range(len(validation_data)):\n",
        "    classification = nn.classify(validation_data.iloc[i, 0:5], 6)\n",
        "    predictions.append(classification)\n",
        "  eval = Evaluation(true_classes, predictions)\n",
        "  plt.plot(n+1, eval.accuracy(), \"ro\")\n",
        "\n",
        "plt.title(\"Pearson Distance Accuracies\")\n",
        "plt.xlabel(\"Number of Neighbors\")\n",
        "plt.ylabel(\"Accuracy\")\n",
        "plt.show()\n",
        "\n",
        "# optimal n = 12 / accuracy = 90%"
      ],
      "execution_count": 61,
      "outputs": [
        {
          "output_type": "stream",
          "text": [
            "/usr/local/lib/python3.6/dist-packages/ipykernel_launcher.py:48: RuntimeWarning: divide by zero encountered in double_scalars\n",
            "/usr/local/lib/python3.6/dist-packages/ipykernel_launcher.py:48: RuntimeWarning: invalid value encountered in double_scalars\n"
          ],
          "name": "stderr"
        },
        {
          "output_type": "display_data",
          "data": {
            "image/png": "[encoded data removed]",
            "text/plain": [
              "<Figure size 432x288 with 1 Axes>"
            ]
          },
          "metadata": {
            "tags": [],
            "needs_background": "light"
          }
        }
      ]
    },
    {
      "cell_type": "code",
      "metadata": {
        "id": "nYKaIHWprWbj"
      },
      "source": [
        "# get predictions \n",
        "predictions = []\n",
        "nn = Nearest_Neighbor(12, training_data)\n",
        "for i in range(len(validation_data)):\n",
        "  classification = nn.classify(validation_data.iloc[i, 0:5], 6)\n",
        "  predictions.append(classification)\n",
        "\n",
        "eval = Evaluation(true_classes, predictions)"
      ],
      "execution_count": null,
      "outputs": []
    },
    {
      "cell_type": "code",
      "metadata": {
        "id": "RZNyhz27kXaq",
        "colab": {
          "base_uri": "https://localhost:8080/",
          "height": 265
        },
        "outputId": "b197255b-37c3-4d5c-9be1-0b795b3f09c8"
      },
      "source": [
        "eval.plot_metrics()"
      ],
      "execution_count": null,
      "outputs": [
        {
          "output_type": "display_data",
          "data": {
            "image/png": "[encoded data removed]",
            "text/plain": [
              "<Figure size 432x288 with 1 Axes>"
            ]
          },
          "metadata": {
            "tags": [],
            "needs_background": "light"
          }
        }
      ]
    },
    {
      "cell_type": "code",
      "metadata": {
        "colab": {
          "base_uri": "https://localhost:8080/"
        },
        "id": "frWOS6Ki1Par",
        "outputId": "cd021128-d03a-4c1b-84ae-213e76ac1e09"
      },
      "source": [
        "positives = 0\n",
        "negatives = 0\n",
        "for data in range(len(training_data)):\n",
        "  if training_data.iloc[data,5] == 0:\n",
        "    negatives += 1\n",
        "  if training_data.iloc[data,5] == 1:\n",
        "    positives += 1\n",
        "\n",
        "pos_perc = positives / (negatives + positives)\n",
        "neg_perc = negatives / (negatives + positives)\n",
        "\n",
        "print(\"Percent of Positive Data: {}%\".format(round(pos_perc,2)*100), \"\\nPercent of Negative Data: {}%\".format(round(neg_perc,2)*100))"
      ],
      "execution_count": 62,
      "outputs": [
        {
          "output_type": "stream",
          "text": [
            "Percent of Positive Data: 62.0% \n",
            "Percent of Negative Data: 38.0%\n"
          ],
          "name": "stdout"
        }
      ]
    },
    {
      "cell_type": "code",
      "metadata": {
        "colab": {
          "base_uri": "https://localhost:8080/"
        },
        "id": "mHOwGdXA0suP",
        "outputId": "997a2a6b-419c-4817-c6ed-cd5c835d87b2"
      },
      "source": [
        "SEED = 5\n",
        "np.random.seed(SEED)\n",
        "\n",
        "drop_indexes = []\n",
        "\n",
        "for data in range(len(training_data)):\n",
        "  r = np.random.uniform()\n",
        "  if training_data.iloc[data,5] == 1:\n",
        "    if .4 > r:\n",
        "      drop_indexes.append(data)\n",
        "\n",
        "print(len(drop_indexes))\n",
        "\n",
        "training_data = training_data.drop(drop_indexes)"
      ],
      "execution_count": 63,
      "outputs": [
        {
          "output_type": "stream",
          "text": [
            "108\n"
          ],
          "name": "stdout"
        }
      ]
    },
    {
      "cell_type": "code",
      "metadata": {
        "colab": {
          "base_uri": "https://localhost:8080/",
          "height": 295
        },
        "id": "uIJRLHlJ81cN",
        "outputId": "9c30b481-6d19-423e-e15f-057915275e4f"
      },
      "source": [
        "for n in range(20):\n",
        "  nn = Nearest_Neighbor(n+1, training_data, weights=[1,1,1,1,1], dist_method=\"manhattan\")\n",
        "  predictions = []\n",
        "  for i in range(len(validation_data)):\n",
        "    classification = nn.classify(validation_data.iloc[i, 0:5], 6)\n",
        "    predictions.append(classification)\n",
        "  eval = Evaluation(true_classes, predictions)\n",
        "  plt.plot(n+1, eval.accuracy(), \"ro\")\n",
        "\n",
        "plt.title(\"Manhattan Distance Accuracies\")\n",
        "plt.xlabel(\"Number of Neighbors\")\n",
        "plt.ylabel(\"Accuracy\")\n",
        "plt.show()"
      ],
      "execution_count": 64,
      "outputs": [
        {
          "output_type": "display_data",
          "data": {
            "image/png": "[encoded data removed]",
            "text/plain": [
              "<Figure size 432x288 with 1 Axes>"
            ]
          },
          "metadata": {
            "tags": [],
            "needs_background": "light"
          }
        }
      ]
    },
    {
      "cell_type": "code",
      "metadata": {
        "id": "Nsyo6_746V4I"
      },
      "source": [
        "# get predictions \n",
        "predictions = []\n",
        "nn = Nearest_Neighbor(20, training_data)\n",
        "for i in range(len(validation_data)):\n",
        "  classification = nn.classify(validation_data.iloc[i, 0:5], 6)\n",
        "  predictions.append(classification)\n",
        "\n",
        "eval = Evaluation(true_classes, predictions)"
      ],
      "execution_count": null,
      "outputs": []
    },
    {
      "cell_type": "code",
      "metadata": {
        "colab": {
          "base_uri": "https://localhost:8080/",
          "height": 265
        },
        "id": "7ohITpzH6Wl3",
        "outputId": "45f15f0a-d092-4b6c-c05d-8b0db60f52f7"
      },
      "source": [
        "eval.plot_metrics()"
      ],
      "execution_count": null,
      "outputs": [
        {
          "output_type": "display_data",
          "data": {
            "image/png": "[encoded data removed]",
            "text/plain": [
              "<Figure size 432x288 with 1 Axes>"
            ]
          },
          "metadata": {
            "tags": [],
            "needs_background": "light"
          }
        }
      ]
    }
  ]
}